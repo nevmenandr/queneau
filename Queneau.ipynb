{
 "cells": [
  {
   "cell_type": "markdown",
   "id": "49b2a400",
   "metadata": {},
   "source": [
    "# Импортируем библиотеки"
   ]
  },
  {
   "cell_type": "code",
   "execution_count": 2,
   "id": "6597a56a",
   "metadata": {
    "ExecuteTime": {
     "end_time": "2023-04-16T18:59:20.449914Z",
     "start_time": "2023-04-16T18:59:20.444954Z"
    }
   },
   "outputs": [],
   "source": [
    "import hashlib\n",
    "import html\n",
    "import re\n",
    "import requests\n",
    "from bs4 import BeautifulSoup\n",
    "from tqdm.autonotebook import tqdm"
   ]
  },
  {
   "cell_type": "markdown",
   "id": "be47eb0c",
   "metadata": {},
   "source": [
    "# Получаем данные"
   ]
  },
  {
   "cell_type": "code",
   "execution_count": 24,
   "id": "dbb2d897",
   "metadata": {
    "ExecuteTime": {
     "end_time": "2023-04-17T01:10:59.843985Z",
     "start_time": "2023-04-17T01:10:56.445270Z"
    }
   },
   "outputs": [],
   "source": [
    "poems = {}\n",
    "for x in range(1,11):\n",
    "    poems[x] = {}\n",
    "    r = requests.get('https://www.laclassevirtuelle.fr/queneau{}.htm'.format(x))\n",
    "    html_page = r.text\n",
    "    soup = BeautifulSoup(html_page, 'html.parser')\n",
    "    lines = soup.find_all('center')\n",
    "    for i,line in enumerate(lines[:17]):\n",
    "        if i == 4 or i == 9 or i == 13:\n",
    "            continue\n",
    "        line = line.text.replace('\\n', '')\n",
    "        line = line.replace(' ?', '?')\n",
    "        line = re.sub('\\s+', ' ', line)\n",
    "        if i == 3 or i == 8 or i == 12:\n",
    "            line = line + '\\n\\n'\n",
    "        elif i != 16:\n",
    "            line = line + '\\n'\n",
    "        if i < 4:\n",
    "            poems[x][i+1] = line\n",
    "        elif 9 > i > 4:\n",
    "            poems[x][i] = line\n",
    "        elif 13 > i > 9:\n",
    "            poems[x][i-1] = line\n",
    "        else:\n",
    "            poems[x][i-2] = line"
   ]
  },
  {
   "cell_type": "markdown",
   "id": "27aefacb",
   "metadata": {},
   "source": [
    "## На всякий случай распечатываем данные"
   ]
  },
  {
   "cell_type": "code",
   "execution_count": 25,
   "id": "0b1c568b",
   "metadata": {
    "ExecuteTime": {
     "end_time": "2023-04-17T01:11:38.629853Z",
     "start_time": "2023-04-17T01:11:38.609679Z"
    }
   },
   "outputs": [
    {
     "data": {
      "text/plain": [
       "{1: {1: 'Le roi de la pampa retourne sa chemise\\n',\n",
       "  2: 'pour la mettre à sécher aux cornes des taureaux\\n',\n",
       "  3: 'le cornédbîf en boîte empeste la remise\\n',\n",
       "  4: 'et fermentent de même et les cuirs et les peaux\\n\\n',\n",
       "  5: 'Je me souviens encor de cette heure exeuquise\\n',\n",
       "  6: 'les gauchos dans la plaine agitaient leurs drapeaux\\n',\n",
       "  7: 'nous avions aussi froid que nus sur la banquise\\n',\n",
       "  8: 'lorsque pour nous distraire y plantions nos tréteaux\\n\\n',\n",
       "  9: 'Du pôle à Rosario fait une belle trotte\\n',\n",
       "  10: \"aventures on eut qui s'y pique s'y frotte\\n\",\n",
       "  11: \"lorqu'on boit du maté l'on devient argentin\\n\\n\",\n",
       "  12: \"L'Amérique du Sud séduit les équivoques\\n\",\n",
       "  13: \"exaltent l'espagnol les oreilles baroques\\n\",\n",
       "  14: 'si la cloche se tait et son terlintintin'},\n",
       " 2: {1: \" Le cheval Parthénon s'énerve sur sa frise\\n\",\n",
       "  2: 'depuis que lord Elgin négligea ses naseaux\\n',\n",
       "  3: 'le Turc de ce temps-là pataugeait dans sa crise\\n',\n",
       "  4: 'il chantait tout de même oui mais il chantait faux\\n\\n',\n",
       "  5: 'Le cheval Parthénon frissonnait sous la bise\\n',\n",
       "  6: \"du climat londonien où s'ébattent les beaux\\n\",\n",
       "  7: 'il grelottait le pauvre aux bords de la Tamise\\n',\n",
       "  8: 'quand les grêlons fin mars mitraillent les bateaux\\n\\n',\n",
       "  9: \"La Grèce de Platon à coup sûr n'est point sotte\\n\",\n",
       "  10: 'on comptait les esprits acérés à la hotte\\n',\n",
       "  11: 'lorsque Socrate mort passait pour un lutin\\n\\n',\n",
       "  12: 'Sa sculpture est illustre et dans le fond des coques\\n',\n",
       "  13: 'on transporte et le marbre et débris et défroques\\n',\n",
       "  14: \"si l'Europe le veut l'Europe ou son destin\"},\n",
       " 3: {1: ' Le vieux marin breton de tabac prit sa prise\\n',\n",
       "  2: 'pour du fin fond du nez exciter les arceaux\\n',\n",
       "  3: \"sur l'antique bahut il choisit sa cerise\\n\",\n",
       "  4: \"il n'avait droit qu'à une et le jour des Rameaux\\n\\n\",\n",
       "  5: 'Souvenez-vous amis de ces îles de Frise\\n',\n",
       "  6: \"où venaient par milliers s'échouer les harenceaux\\n\",\n",
       "  7: 'nous regrettions un peu ce tas de marchandise\\n',\n",
       "  8: \"lorsqu'on voyait au loin flamber les arbrisseaux\\n\\n\",\n",
       "  9: 'On sèche le poisson dorade ou molve lotte\\n',\n",
       "  10: \"on sale le requin on fume à l'échalotte\\n\",\n",
       "  11: \"lorsqu'on revient au port en essuyant un grain\\n\\n\",\n",
       "  12: 'Enfin on vend le tout homards et salicoques\\n',\n",
       "  13: \"on s'excuse il n'y a ni baleines ni phoques\\n\",\n",
       "  14: 'le mammifère est roi nous sommes son cousin'},\n",
       " 4: {1: \" C'était à cinq o'clock qu'il sortait la marquise \\n\",\n",
       "  2: 'pour consommer un thé puis des petits gâteaux\\n',\n",
       "  3: 'le chauffeur indigène attendait dans la brise\\n',\n",
       "  4: 'elle soufflait bien fort par-dessus les côteaux\\n\\n',\n",
       "  5: 'On était bien surpris par cette plaine grise\\n',\n",
       "  6: 'quand se carbonisait la fureur des châteaux\\n',\n",
       "  7: 'un audacieux baron empoche toute accise\\n',\n",
       "  8: 'lorsque vient le pompier avec ses grandes eaux\\n\\n',\n",
       "  9: 'Du Gange au Malabar le lord anglais zozotte\\n',\n",
       "  10: 'comme à Chandernagor le manant sent la crotte\\n',\n",
       "  11: \"le colonel s'éponge un blason dans la main\\n\\n\",\n",
       "  12: 'Ne fallait-il pas si loin agiter ses breloques\\n',\n",
       "  13: 'les Indes ont assez sans ça de pendoloques\\n',\n",
       "  14: \"l'écu de vair ou d'or ne dure qu'un matin\"},\n",
       " 5: {1: ' Du jeune avantageux la nymphe était éprise\\n',\n",
       "  2: 'snob un peu sur les bords des bords fondamentaux\\n',\n",
       "  3: \"une toge il portait qui n'était pas de mise\\n\",\n",
       "  4: 'des narcisses on cueille ou bien on est des veaux\\n\\n',\n",
       "  5: 'Quand on prend des photos de cette tour de Pise\\n',\n",
       "  6: \"d'où Galilée jadis jeta ses petits pots\\n\",\n",
       "  7: \"d'une étrusque inscription la pierre était incise\\n\",\n",
       "  8: 'les Grecs et les Romains en vain cherchent leurs mots\\n\\n',\n",
       "  9: \"L'esprit souffle et resouffle au-dessus de la botte\\n\",\n",
       "  10: 'le touriste à Florence ignoble charibotte\\n',\n",
       "  11: \"l'autocar écrabouille un peu d'esprit latin\\n\\n\",\n",
       "  12: 'Les rapports transalpins sont-ils biunivoques?\\n',\n",
       "  13: \"les banquiers d'Avignon changent-ils les baïoques ?\\n\",\n",
       "  14: 'le Beaune et le Chianti sont-ils le même vin ?'},\n",
       " 6: {1: ' Il se penche il voudrait attraper sa valise\\n',\n",
       "  2: \"que convoitait c'est sûr une horde d'escrocs\\n\",\n",
       "  3: 'il se penche et alors à sa grande surprise\\n',\n",
       "  4: \"il ne trouve aussi sec qu'un sac de vieux fayots\\n\\n\",\n",
       "  5: 'Il déplore il déplore une telle mainmise\\n',\n",
       "  6: 'qui se plaît à flouer de pauvres provinciaux\\n',\n",
       "  7: 'aller à la grande ville est bien une entreprise\\n',\n",
       "  8: 'elle effraie le Berry comme les Morvandiaux\\n\\n',\n",
       "  9: 'Devant la boue urbaine on retrousse sa cotte\\n',\n",
       "  10: 'on gifle le marmot qui plonge sa menotte\\n',\n",
       "  11: \"lorsqu'il voit la gadoue il cherche le purin\\n\\n\",\n",
       "  12: 'On regrette à la fin les agrestes bicoques\\n',\n",
       "  13: 'on mettait sans façon ses plus infectes loques\\n',\n",
       "  14: \"mais on n'aurait pas vu le métropolitain\"},\n",
       " 7: {1: \" Quand l'un avecque l'autre aussitôt sympathise\\n\",\n",
       "  2: 'se faire il pourrait bien que ce soit des jumeaux\\n',\n",
       "  3: 'la découverte alors voilà qui traumatise\\n',\n",
       "  4: 'on espère toujours être de vrais normaux\\n\\n',\n",
       "  5: \"Et pourtant c'était lui le frère de feintise\\n\",\n",
       "  6: 'qui clochard devenait jetait ses oripeaux\\n',\n",
       "  7: 'un frère même bas est la part indécise\\n',\n",
       "  8: 'que les parents féconds offrent aux purs berceaux\\n\\n',\n",
       "  9: 'Le généalogiste observe leur bouillotte\\n',\n",
       "  10: 'gratter le parchemin deviendra sa marotte\\n',\n",
       "  11: 'il voudra retrouver le germe adultérin\\n\\n',\n",
       "  12: 'Frère je te comprends si parfois tu débloques\\n',\n",
       "  13: \"frère je t'absoudrai si tu m'emberlucoques\\n\",\n",
       "  14: 'la gémellité vraie accuse son destin'},\n",
       " 8: {1: \" Lorsqu'un jour exalté l'aède prosaïse\\n\",\n",
       "  2: \"pour déplaire au profane aussi bien qu'aux idiots\\n\",\n",
       "  3: \"la critique lucide aperçoit ce qu'il vise\\n\",\n",
       "  4: 'il donne à la tribu des cris aux sens nouveaux\\n\\n',\n",
       "  5: \"L'un et l'autre a raison non la foule insoumise\\n\",\n",
       "  6: \"le vulgaire s'entête à vouloir des vers beaux\\n\",\n",
       "  7: \"l'un et l'autre ont raison non la foule imprécise\\n\",\n",
       "  8: \"à tous n'est pas donné d'aimer les chocs verbaux\\n\\n\",\n",
       "  9: \"Le poète inspiré n'est point un polyglotte\\n\",\n",
       "  10: 'une langue suffit pour emplir sa cagnotte\\n',\n",
       "  11: \"même s'il prend son sel au celte c'est son bien\\n\\n\",\n",
       "  12: 'Barde que tu me plais toujours tu soliloques\\n',\n",
       "  13: 'tu me stupéfies plus que tous les ventriloques\\n',\n",
       "  14: 'le métronome à force incarne le devin'},\n",
       " 9: {1: \" Le marbre pour l'acide est une friandise\\n\",\n",
       "  2: \"d'aucuns par-dessus tout prisent les escargots\\n\",\n",
       "  3: 'sur la place un forain de feu se gargarise\\n',\n",
       "  4: 'qui sait si le requin boulotte les turbots?\\n\\n',\n",
       "  5: \"Du voisin le Papou suçote l'apophyse\\n\",\n",
       "  6: \"que n'a pas dévoré la horde des mulots?\\n\",\n",
       "  7: 'le gourmet en salade avale la cytise\\n',\n",
       "  8: \"l'enfant pur aux yeux bleus aime les berlingots\\n\\n\",\n",
       "  9: 'Le loup est amateur de coq et de cocotte\\n',\n",
       "  10: 'le chat fait un festin de têtes de linotte\\n',\n",
       "  11: 'le chemin vicinal se nourrit de crottin\\n\\n',\n",
       "  12: 'On a bu du pinard à toutes les époques\\n',\n",
       "  13: 'grignoter des bretzels distrait bien des colloques\\n',\n",
       "  14: 'mais rien ne vaut le morceau de boudin'},\n",
       " 10: {1: \" Lorsque tout est fini lorsque l'on agonise\\n\",\n",
       "  2: 'lorsque le marbrier astique nos tombeaux\\n',\n",
       "  3: 'des êtres indécis vous parlent sans franchise\\n',\n",
       "  4: 'et tout vient signifier la fin des haricots\\n\\n',\n",
       "  5: 'On vous fait devenir une orde marchandise\\n',\n",
       "  6: 'on prépare la route aux pensers sépulcraux\\n',\n",
       "  7: 'de la mort on vous greffe une orde bâtardise\\n',\n",
       "  8: 'la mite a grignoté tissus os et rideaux\\n\\n',\n",
       "  9: 'Le brave a beau crier ah cré nom saperlotte\\n',\n",
       "  10: 'le lâche peut arguer de sa mine pâlotte\\n',\n",
       "  11: 'les croque-morts sont là pour se mettre au turbin\\n\\n',\n",
       "  12: 'Cela considérant ô lecteur tu suffoques\\n',\n",
       "  13: 'comptant tes abattis lecteur tu te disloques\\n',\n",
       "  14: 'toute chose pourtant doit avoir une fin'}}"
      ]
     },
     "execution_count": 25,
     "metadata": {},
     "output_type": "execute_result"
    }
   ],
   "source": [
    "poems"
   ]
  },
  {
   "cell_type": "markdown",
   "id": "6ae5b154",
   "metadata": {},
   "source": [
    "# Генератор комбинаций"
   ]
  },
  {
   "cell_type": "code",
   "execution_count": 21,
   "id": "bd50c5d0",
   "metadata": {
    "ExecuteTime": {
     "end_time": "2023-04-17T01:08:37.895823Z",
     "start_time": "2023-04-17T00:38:59.589265Z"
    }
   },
   "outputs": [
    {
     "data": {
      "application/vnd.jupyter.widget-view+json": {
       "model_id": "b22df47813b3447c962988b7b71200e2",
       "version_major": 2,
       "version_minor": 0
      },
      "text/plain": [
       "  0%|          | 0/10 [00:00<?, ?it/s]"
      ]
     },
     "metadata": {},
     "output_type": "display_data"
    },
    {
     "name": "stdout",
     "output_type": "stream",
     "text": [
      "poem num: 1\n"
     ]
    },
    {
     "ename": "KeyboardInterrupt",
     "evalue": "",
     "output_type": "error",
     "traceback": [
      "\u001b[0;31m---------------------------------------------------------------------------\u001b[0m",
      "\u001b[0;31mKeyboardInterrupt\u001b[0m                         Traceback (most recent call last)",
      "\u001b[0;32m<ipython-input-21-b26e6a61455f>\u001b[0m in \u001b[0;36m<module>\u001b[0;34m\u001b[0m\n\u001b[1;32m     37\u001b[0m                                                         \u001b[0;32mif\u001b[0m \u001b[0mi\u001b[0m \u001b[0;34m<\u001b[0m \u001b[0mcontinue_point\u001b[0m\u001b[0;34m:\u001b[0m\u001b[0;34m\u001b[0m\u001b[0;34m\u001b[0m\u001b[0m\n\u001b[1;32m     38\u001b[0m                                                             \u001b[0;32mcontinue\u001b[0m\u001b[0;34m\u001b[0m\u001b[0;34m\u001b[0m\u001b[0m\n\u001b[0;32m---> 39\u001b[0;31m                                                         \u001b[0mvar\u001b[0m \u001b[0;34m=\u001b[0m \u001b[0;34m[\u001b[0m\u001b[0mpoems\u001b[0m\u001b[0;34m[\u001b[0m\u001b[0mcombination_lines\u001b[0m\u001b[0;34m[\u001b[0m\u001b[0mx\u001b[0m\u001b[0;34m]\u001b[0m\u001b[0;34m]\u001b[0m\u001b[0;34m[\u001b[0m\u001b[0mx\u001b[0m\u001b[0;34m]\u001b[0m \u001b[0;32mfor\u001b[0m \u001b[0mx\u001b[0m \u001b[0;32min\u001b[0m \u001b[0mrange\u001b[0m\u001b[0;34m(\u001b[0m\u001b[0;36m1\u001b[0m\u001b[0;34m,\u001b[0m\u001b[0;36m15\u001b[0m\u001b[0;34m)\u001b[0m\u001b[0;34m]\u001b[0m\u001b[0;34m\u001b[0m\u001b[0;34m\u001b[0m\u001b[0m\n\u001b[0m\u001b[1;32m     40\u001b[0m                                                         \u001b[0mpoem\u001b[0m \u001b[0;34m=\u001b[0m \u001b[0;34m''\u001b[0m\u001b[0;34m.\u001b[0m\u001b[0mjoin\u001b[0m\u001b[0;34m(\u001b[0m\u001b[0mvar\u001b[0m\u001b[0;34m)\u001b[0m\u001b[0;34m\u001b[0m\u001b[0;34m\u001b[0m\u001b[0m\n\u001b[1;32m     41\u001b[0m                                                         \u001b[0mbytes_poem\u001b[0m \u001b[0;34m=\u001b[0m \u001b[0mpoem\u001b[0m\u001b[0;34m.\u001b[0m\u001b[0mencode\u001b[0m\u001b[0;34m(\u001b[0m\u001b[0;34m'utf-8'\u001b[0m\u001b[0;34m)\u001b[0m\u001b[0;34m\u001b[0m\u001b[0;34m\u001b[0m\u001b[0m\n",
      "\u001b[0;31mKeyboardInterrupt\u001b[0m: "
     ]
    }
   ],
   "source": [
    "# можно прервать выполнение в любой момент\n",
    "\n",
    "continue_point = 1495430370 # перед повторным запуском заменить на значение i\n",
    "\n",
    "winner = {}\n",
    "i = 0\n",
    "for line in tqdm(range(1,11)):\n",
    "    print('poem num:', line)\n",
    "    combination_lines = {1: line}\n",
    "    for line in range(1,11):\n",
    "        combination_lines[2] = line\n",
    "        for line in range(1,11):\n",
    "            combination_lines[3] = line\n",
    "            for line in range(1,11):\n",
    "                combination_lines[4] = line\n",
    "                for line in range(1,11):\n",
    "                    combination_lines[5] = line\n",
    "                    for line in range(1,11):\n",
    "                        combination_lines[6] = line\n",
    "                        for line in range(1,11):\n",
    "                            combination_lines[7] = line\n",
    "                            for line in range(1,11):\n",
    "                                combination_lines[8] = line\n",
    "                                for line in range(1,11):\n",
    "                                    combination_lines[9] = line\n",
    "                                    for line in range(1,11):\n",
    "                                        combination_lines[10] = line\n",
    "                                        for line in range(1,11):\n",
    "                                            combination_lines[11] = line\n",
    "                                            for line in range(1,11):\n",
    "                                                combination_lines[12] = line\n",
    "                                                for line in range(1,11):\n",
    "                                                    combination_lines[13] = line\n",
    "                                                    for line in range(1,11):\n",
    "                                                        combination_lines[14] = line\n",
    "                                                        i += 1\n",
    "                                                        if i < continue_point:\n",
    "                                                            continue\n",
    "                                                        var = [poems[combination_lines[x]][x] for x in range(1,15)]\n",
    "                                                        poem = ''.join(var)\n",
    "                                                        bytes_poem = poem.encode('utf-8')\n",
    "                                                        hsum = hashlib.sha256(bytes_poem).hexdigest()\n",
    "                                                        if hsum.startswith('00000000'):\n",
    "                                                            winner[hsum] = (poem, i) # текст и номер варианта\n",
    "                                                            print(hsum)"
   ]
  },
  {
   "cell_type": "markdown",
   "id": "bbe9fa97",
   "metadata": {},
   "source": [
    "## Посмотрим, что оказалось в коринке"
   ]
  },
  {
   "cell_type": "code",
   "execution_count": 22,
   "id": "746c87a6",
   "metadata": {
    "ExecuteTime": {
     "end_time": "2023-04-17T01:08:43.324847Z",
     "start_time": "2023-04-17T01:08:43.315315Z"
    }
   },
   "outputs": [
    {
     "name": "stdout",
     "output_type": "stream",
     "text": [
      "обследовано вариантов:  1575285222 осталось:  99998424714778\n"
     ]
    }
   ],
   "source": [
    "print('обследовано вариантов: ', i, 'осталось: ', 10**14-i)"
   ]
  },
  {
   "cell_type": "markdown",
   "id": "e50d16f4",
   "metadata": {},
   "source": [
    "## Если есть победитель, он в словаре winner"
   ]
  },
  {
   "cell_type": "code",
   "execution_count": null,
   "id": "b3905eef",
   "metadata": {},
   "outputs": [],
   "source": [
    "print(winner) # пока до нужного варианта не добрались"
   ]
  },
  {
   "cell_type": "markdown",
   "id": "a24dae00",
   "metadata": {},
   "source": [
    "# Сколько займет полный перебор на нынешней скорости"
   ]
  },
  {
   "cell_type": "code",
   "execution_count": 20,
   "id": "a20ef3d9",
   "metadata": {
    "ExecuteTime": {
     "end_time": "2023-04-17T00:38:09.319946Z",
     "start_time": "2023-04-17T00:38:09.312709Z"
    }
   },
   "outputs": [
    {
     "data": {
      "text/plain": [
       "38.58363361555781"
      ]
     },
     "execution_count": 20,
     "metadata": {},
     "output_type": "execute_result"
    }
   ],
   "source": [
    "(((((10**14) / (1495430370 / 18196)) / 60) / 60) / 24) / 365 # это в годах"
   ]
  },
  {
   "cell_type": "markdown",
   "id": "c34c94c1",
   "metadata": {},
   "source": [
    "# Попробуем многопоточность"
   ]
  },
  {
   "cell_type": "code",
   "execution_count": 26,
   "id": "000ed08b",
   "metadata": {
    "ExecuteTime": {
     "end_time": "2023-04-17T01:13:19.276214Z",
     "start_time": "2023-04-17T01:13:19.265425Z"
    }
   },
   "outputs": [],
   "source": [
    "import multiprocessing"
   ]
  },
  {
   "cell_type": "code",
   "execution_count": 27,
   "id": "64b7d96e",
   "metadata": {
    "ExecuteTime": {
     "end_time": "2023-04-17T01:13:53.141676Z",
     "start_time": "2023-04-17T01:13:53.137357Z"
    }
   },
   "outputs": [
    {
     "name": "stdout",
     "output_type": "stream",
     "text": [
      "4\n"
     ]
    }
   ],
   "source": [
    "n_proc = multiprocessing.cpu_count()\n",
    "print(n_proc)"
   ]
  },
  {
   "cell_type": "code",
   "execution_count": 31,
   "id": "eb9f8bbc",
   "metadata": {
    "ExecuteTime": {
     "end_time": "2023-04-17T01:40:53.709596Z",
     "start_time": "2023-04-17T01:40:53.693330Z"
    }
   },
   "outputs": [],
   "source": [
    "def combining_lines(n):\n",
    "    n += 1\n",
    "    combination_lines = {1: n}\n",
    "    for line in range(1,11):\n",
    "        combination_lines[2] = line\n",
    "        for line in range(1,11):\n",
    "            combination_lines[3] = line\n",
    "            for line in range(1,11):\n",
    "                combination_lines[4] = line\n",
    "                for line in range(1,11):\n",
    "                    combination_lines[5] = line\n",
    "                    for line in range(1,11):\n",
    "                        combination_lines[6] = line\n",
    "                        for line in range(1,11):\n",
    "                            combination_lines[7] = line\n",
    "                            for line in range(1,11):\n",
    "                                combination_lines[8] = line\n",
    "                                for line in range(1,11):\n",
    "                                    combination_lines[9] = line\n",
    "                                    for line in range(1,11):\n",
    "                                        combination_lines[10] = line\n",
    "                                        for line in range(1,11):\n",
    "                                            combination_lines[11] = line\n",
    "                                            for line in range(1,11):\n",
    "                                                combination_lines[12] = line\n",
    "                                                for line in range(1,11):\n",
    "                                                    combination_lines[13] = line\n",
    "                                                    for line in range(1,11):\n",
    "                                                        combination_lines[14] = line\n",
    "                                                        var = [poems[combination_lines[x]][x] for x in range(1,15)]\n",
    "                                                        poem = ''.join(var)\n",
    "                                                        bytes_poem = poem.encode('utf-8')\n",
    "                                                        hsum = hashlib.sha256(bytes_poem).hexdigest()\n",
    "                                                        if hsum.startswith('00000000'):\n",
    "                                                            print(hsum, poem)"
   ]
  },
  {
   "cell_type": "code",
   "execution_count": 34,
   "id": "cc4d4ceb",
   "metadata": {
    "ExecuteTime": {
     "end_time": "2023-04-17T01:44:09.727114Z",
     "start_time": "2023-04-17T01:44:09.713704Z"
    }
   },
   "outputs": [],
   "source": [
    "def sequential(calc, proc):\n",
    "    print(f\"Запускаем поток на процессоре № {proc}\")\n",
    "    for i in range(calc):    \n",
    "        combining_lines(i)\n",
    "\n",
    "def processesed(procs, calc):\n",
    "    processes = []\n",
    "    for proc in range(procs):\n",
    "        p = multiprocessing.Process(target=sequential, args=(calc, proc))\n",
    "        processes.append(p)\n",
    "        p.start()\n",
    "    for p in processes:\n",
    "        p.join()"
   ]
  },
  {
   "cell_type": "code",
   "execution_count": 35,
   "id": "0e30df7b",
   "metadata": {
    "ExecuteTime": {
     "end_time": "2023-04-17T02:00:38.991803Z",
     "start_time": "2023-04-17T01:44:15.030622Z"
    }
   },
   "outputs": [
    {
     "name": "stdout",
     "output_type": "stream",
     "text": [
      "Запускаем поток на процессоре № 0\n",
      "Запускаем поток на процессоре № 1\n",
      "Запускаем поток на процессоре № 2\n",
      "Запускаем поток на процессоре № 3\n"
     ]
    },
    {
     "name": "stderr",
     "output_type": "stream",
     "text": [
      "Process Process-9:\n",
      "Process Process-10:\n",
      "Process Process-12:\n",
      "Process Process-11:\n",
      "Traceback (most recent call last):\n",
      "Traceback (most recent call last):\n",
      "Traceback (most recent call last):\n",
      "  File \"/usr/lib/python3.8/multiprocessing/process.py\", line 315, in _bootstrap\n",
      "    self.run()\n"
     ]
    },
    {
     "ename": "KeyboardInterrupt",
     "evalue": "",
     "output_type": "error",
     "traceback": [
      "\u001b[0;31m---------------------------------------------------------------------------\u001b[0m",
      "\u001b[0;31mKeyboardInterrupt\u001b[0m                         Traceback (most recent call last)",
      "\u001b[0;32m<ipython-input-35-f0d9c78c271e>\u001b[0m in \u001b[0;36m<module>\u001b[0;34m\u001b[0m\n\u001b[0;32m----> 1\u001b[0;31m \u001b[0mprocessesed\u001b[0m\u001b[0;34m(\u001b[0m\u001b[0mn_proc\u001b[0m\u001b[0;34m,\u001b[0m \u001b[0;36m14\u001b[0m\u001b[0;34m)\u001b[0m\u001b[0;34m\u001b[0m\u001b[0;34m\u001b[0m\u001b[0m\n\u001b[0m",
      "\u001b[0;32m<ipython-input-34-f10f94a5a63d>\u001b[0m in \u001b[0;36mprocessesed\u001b[0;34m(procs, calc)\u001b[0m\n\u001b[1;32m     11\u001b[0m         \u001b[0mp\u001b[0m\u001b[0;34m.\u001b[0m\u001b[0mstart\u001b[0m\u001b[0;34m(\u001b[0m\u001b[0;34m)\u001b[0m\u001b[0;34m\u001b[0m\u001b[0;34m\u001b[0m\u001b[0m\n\u001b[1;32m     12\u001b[0m     \u001b[0;32mfor\u001b[0m \u001b[0mp\u001b[0m \u001b[0;32min\u001b[0m \u001b[0mprocesses\u001b[0m\u001b[0;34m:\u001b[0m\u001b[0;34m\u001b[0m\u001b[0;34m\u001b[0m\u001b[0m\n\u001b[0;32m---> 13\u001b[0;31m         \u001b[0mp\u001b[0m\u001b[0;34m.\u001b[0m\u001b[0mjoin\u001b[0m\u001b[0;34m(\u001b[0m\u001b[0;34m)\u001b[0m\u001b[0;34m\u001b[0m\u001b[0;34m\u001b[0m\u001b[0m\n\u001b[0m",
      "\u001b[0;32m/usr/lib/python3.8/multiprocessing/process.py\u001b[0m in \u001b[0;36mjoin\u001b[0;34m(self, timeout)\u001b[0m\n\u001b[1;32m    147\u001b[0m         \u001b[0;32massert\u001b[0m \u001b[0mself\u001b[0m\u001b[0;34m.\u001b[0m\u001b[0m_parent_pid\u001b[0m \u001b[0;34m==\u001b[0m \u001b[0mos\u001b[0m\u001b[0;34m.\u001b[0m\u001b[0mgetpid\u001b[0m\u001b[0;34m(\u001b[0m\u001b[0;34m)\u001b[0m\u001b[0;34m,\u001b[0m \u001b[0;34m'can only join a child process'\u001b[0m\u001b[0;34m\u001b[0m\u001b[0;34m\u001b[0m\u001b[0m\n\u001b[1;32m    148\u001b[0m         \u001b[0;32massert\u001b[0m \u001b[0mself\u001b[0m\u001b[0;34m.\u001b[0m\u001b[0m_popen\u001b[0m \u001b[0;32mis\u001b[0m \u001b[0;32mnot\u001b[0m \u001b[0;32mNone\u001b[0m\u001b[0;34m,\u001b[0m \u001b[0;34m'can only join a started process'\u001b[0m\u001b[0;34m\u001b[0m\u001b[0;34m\u001b[0m\u001b[0m\n\u001b[0;32m--> 149\u001b[0;31m         \u001b[0mres\u001b[0m \u001b[0;34m=\u001b[0m \u001b[0mself\u001b[0m\u001b[0;34m.\u001b[0m\u001b[0m_popen\u001b[0m\u001b[0;34m.\u001b[0m\u001b[0mwait\u001b[0m\u001b[0;34m(\u001b[0m\u001b[0mtimeout\u001b[0m\u001b[0;34m)\u001b[0m\u001b[0;34m\u001b[0m\u001b[0;34m\u001b[0m\u001b[0m\n\u001b[0m\u001b[1;32m    150\u001b[0m         \u001b[0;32mif\u001b[0m \u001b[0mres\u001b[0m \u001b[0;32mis\u001b[0m \u001b[0;32mnot\u001b[0m \u001b[0;32mNone\u001b[0m\u001b[0;34m:\u001b[0m\u001b[0;34m\u001b[0m\u001b[0;34m\u001b[0m\u001b[0m\n\u001b[1;32m    151\u001b[0m             \u001b[0m_children\u001b[0m\u001b[0;34m.\u001b[0m\u001b[0mdiscard\u001b[0m\u001b[0;34m(\u001b[0m\u001b[0mself\u001b[0m\u001b[0;34m)\u001b[0m\u001b[0;34m\u001b[0m\u001b[0;34m\u001b[0m\u001b[0m\n",
      "\u001b[0;32m/usr/lib/python3.8/multiprocessing/popen_fork.py\u001b[0m in \u001b[0;36mwait\u001b[0;34m(self, timeout)\u001b[0m\n\u001b[1;32m     45\u001b[0m                     \u001b[0;32mreturn\u001b[0m \u001b[0;32mNone\u001b[0m\u001b[0;34m\u001b[0m\u001b[0;34m\u001b[0m\u001b[0m\n\u001b[1;32m     46\u001b[0m             \u001b[0;31m# This shouldn't block if wait() returned successfully.\u001b[0m\u001b[0;34m\u001b[0m\u001b[0;34m\u001b[0m\u001b[0;34m\u001b[0m\u001b[0m\n\u001b[0;32m---> 47\u001b[0;31m             \u001b[0;32mreturn\u001b[0m \u001b[0mself\u001b[0m\u001b[0;34m.\u001b[0m\u001b[0mpoll\u001b[0m\u001b[0;34m(\u001b[0m\u001b[0mos\u001b[0m\u001b[0;34m.\u001b[0m\u001b[0mWNOHANG\u001b[0m \u001b[0;32mif\u001b[0m \u001b[0mtimeout\u001b[0m \u001b[0;34m==\u001b[0m \u001b[0;36m0.0\u001b[0m \u001b[0;32melse\u001b[0m \u001b[0;36m0\u001b[0m\u001b[0;34m)\u001b[0m\u001b[0;34m\u001b[0m\u001b[0;34m\u001b[0m\u001b[0m\n\u001b[0m\u001b[1;32m     48\u001b[0m         \u001b[0;32mreturn\u001b[0m \u001b[0mself\u001b[0m\u001b[0;34m.\u001b[0m\u001b[0mreturncode\u001b[0m\u001b[0;34m\u001b[0m\u001b[0;34m\u001b[0m\u001b[0m\n\u001b[1;32m     49\u001b[0m \u001b[0;34m\u001b[0m\u001b[0m\n",
      "\u001b[0;32m/usr/lib/python3.8/multiprocessing/popen_fork.py\u001b[0m in \u001b[0;36mpoll\u001b[0;34m(self, flag)\u001b[0m\n\u001b[1;32m     25\u001b[0m         \u001b[0;32mif\u001b[0m \u001b[0mself\u001b[0m\u001b[0;34m.\u001b[0m\u001b[0mreturncode\u001b[0m \u001b[0;32mis\u001b[0m \u001b[0;32mNone\u001b[0m\u001b[0;34m:\u001b[0m\u001b[0;34m\u001b[0m\u001b[0;34m\u001b[0m\u001b[0m\n\u001b[1;32m     26\u001b[0m             \u001b[0;32mtry\u001b[0m\u001b[0;34m:\u001b[0m\u001b[0;34m\u001b[0m\u001b[0;34m\u001b[0m\u001b[0m\n\u001b[0;32m---> 27\u001b[0;31m                 \u001b[0mpid\u001b[0m\u001b[0;34m,\u001b[0m \u001b[0msts\u001b[0m \u001b[0;34m=\u001b[0m \u001b[0mos\u001b[0m\u001b[0;34m.\u001b[0m\u001b[0mwaitpid\u001b[0m\u001b[0;34m(\u001b[0m\u001b[0mself\u001b[0m\u001b[0;34m.\u001b[0m\u001b[0mpid\u001b[0m\u001b[0;34m,\u001b[0m \u001b[0mflag\u001b[0m\u001b[0;34m)\u001b[0m\u001b[0;34m\u001b[0m\u001b[0;34m\u001b[0m\u001b[0m\n\u001b[0m\u001b[1;32m     28\u001b[0m             \u001b[0;32mexcept\u001b[0m \u001b[0mOSError\u001b[0m \u001b[0;32mas\u001b[0m \u001b[0me\u001b[0m\u001b[0;34m:\u001b[0m\u001b[0;34m\u001b[0m\u001b[0;34m\u001b[0m\u001b[0m\n\u001b[1;32m     29\u001b[0m                 \u001b[0;31m# Child process not yet created. See #1731717\u001b[0m\u001b[0;34m\u001b[0m\u001b[0;34m\u001b[0m\u001b[0;34m\u001b[0m\u001b[0m\n",
      "\u001b[0;31mKeyboardInterrupt\u001b[0m: "
     ]
    },
    {
     "name": "stderr",
     "output_type": "stream",
     "text": [
      "  File \"/usr/lib/python3.8/multiprocessing/process.py\", line 108, in run\n",
      "    self._target(*self._args, **self._kwargs)\n",
      "  File \"/usr/lib/python3.8/multiprocessing/process.py\", line 315, in _bootstrap\n",
      "    self.run()\n",
      "  File \"/usr/lib/python3.8/multiprocessing/process.py\", line 315, in _bootstrap\n",
      "    self.run()\n",
      "  File \"/usr/lib/python3.8/multiprocessing/process.py\", line 108, in run\n",
      "    self._target(*self._args, **self._kwargs)\n",
      "  File \"/usr/lib/python3.8/multiprocessing/process.py\", line 108, in run\n",
      "    self._target(*self._args, **self._kwargs)\n",
      "  File \"<ipython-input-34-f10f94a5a63d>\", line 4, in sequential\n",
      "    combining_lines(i)\n",
      "Traceback (most recent call last):\n",
      "  File \"<ipython-input-31-071774da043b>\", line 34, in combining_lines\n",
      "    if hsum.startswith('00000000'):\n",
      "KeyboardInterrupt\n",
      "  File \"<ipython-input-34-f10f94a5a63d>\", line 4, in sequential\n",
      "    combining_lines(i)\n",
      "  File \"<ipython-input-31-071774da043b>\", line 30, in combining_lines\n",
      "    var = [poems[combination_lines[x]][x] for x in range(1,15)]\n",
      "  File \"/usr/lib/python3.8/multiprocessing/process.py\", line 315, in _bootstrap\n",
      "    self.run()\n",
      "  File \"<ipython-input-34-f10f94a5a63d>\", line 4, in sequential\n",
      "    combining_lines(i)\n",
      "  File \"/usr/lib/python3.8/multiprocessing/process.py\", line 108, in run\n",
      "    self._target(*self._args, **self._kwargs)\n",
      "  File \"<ipython-input-34-f10f94a5a63d>\", line 4, in sequential\n",
      "    combining_lines(i)\n",
      "  File \"<ipython-input-31-071774da043b>\", line 30, in combining_lines\n",
      "    var = [poems[combination_lines[x]][x] for x in range(1,15)]\n",
      "  File \"<ipython-input-31-071774da043b>\", line 33, in combining_lines\n",
      "    hsum = hashlib.sha256(bytes_poem).hexdigest()\n",
      "KeyboardInterrupt\n",
      "  File \"<ipython-input-31-071774da043b>\", line 30, in <listcomp>\n",
      "    var = [poems[combination_lines[x]][x] for x in range(1,15)]\n",
      "  File \"<ipython-input-31-071774da043b>\", line 30, in <listcomp>\n",
      "    var = [poems[combination_lines[x]][x] for x in range(1,15)]\n",
      "KeyboardInterrupt\n",
      "KeyboardInterrupt\n"
     ]
    }
   ],
   "source": [
    "processesed(n_proc, 14)"
   ]
  },
  {
   "cell_type": "code",
   "execution_count": null,
   "id": "c72bd050",
   "metadata": {},
   "outputs": [],
   "source": []
  }
 ],
 "metadata": {
  "kernelspec": {
   "display_name": "Python 3",
   "language": "python",
   "name": "python3"
  },
  "language_info": {
   "codemirror_mode": {
    "name": "ipython",
    "version": 3
   },
   "file_extension": ".py",
   "mimetype": "text/x-python",
   "name": "python",
   "nbconvert_exporter": "python",
   "pygments_lexer": "ipython3",
   "version": "3.8.10"
  },
  "toc": {
   "base_numbering": 1,
   "nav_menu": {},
   "number_sections": true,
   "sideBar": true,
   "skip_h1_title": false,
   "title_cell": "Table of Contents",
   "title_sidebar": "Contents",
   "toc_cell": false,
   "toc_position": {
    "height": "calc(100% - 180px)",
    "left": "10px",
    "top": "150px",
    "width": "384px"
   },
   "toc_section_display": true,
   "toc_window_display": true
  },
  "varInspector": {
   "cols": {
    "lenName": 16,
    "lenType": 16,
    "lenVar": 40
   },
   "kernels_config": {
    "python": {
     "delete_cmd_postfix": "",
     "delete_cmd_prefix": "del ",
     "library": "var_list.py",
     "varRefreshCmd": "print(var_dic_list())"
    },
    "r": {
     "delete_cmd_postfix": ") ",
     "delete_cmd_prefix": "rm(",
     "library": "var_list.r",
     "varRefreshCmd": "cat(var_dic_list()) "
    }
   },
   "types_to_exclude": [
    "module",
    "function",
    "builtin_function_or_method",
    "instance",
    "_Feature"
   ],
   "window_display": false
  }
 },
 "nbformat": 4,
 "nbformat_minor": 5
}
